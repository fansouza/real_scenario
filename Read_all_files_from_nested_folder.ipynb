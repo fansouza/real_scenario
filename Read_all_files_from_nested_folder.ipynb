{
  "nbformat": 4,
  "nbformat_minor": 0,
  "metadata": {
    "colab": {
      "name": "Read all files from nested folder.ipynb",
      "provenance": [],
      "authorship_tag": "ABX9TyPlicLbEfZGs3h3A1S/Y2Rd",
      "include_colab_link": true
    },
    "kernelspec": {
      "name": "python3",
      "display_name": "Python 3"
    },
    "language_info": {
      "name": "python"
    }
  },
  "cells": [
    {
      "cell_type": "markdown",
      "metadata": {
        "id": "view-in-github",
        "colab_type": "text"
      },
      "source": [
        "<a href=\"https://colab.research.google.com/github/fansouza/real_scenario/blob/main/Read_all_files_from_nested_folder.ipynb\" target=\"_parent\"><img src=\"https://colab.research.google.com/assets/colab-badge.svg\" alt=\"Open In Colab\"/></a>"
      ]
    },
    {
      "cell_type": "markdown",
      "source": [
        "#Reading files from nested folders\n",
        "\n",
        "customer/file1\\\n",
        "customer/file2\\\n",
        "customer/file3\\\n",
        "customer/2022/file1\\\n",
        "customer/2022/file2\\\n",
        "customer/2022/file3\\\n",
        "customer/2021/file1\\\n",
        "customer/2021/file2"
      ],
      "metadata": {
        "id": "KatJaHFfpaJO"
      }
    },
    {
      "cell_type": "code",
      "execution_count": null,
      "metadata": {
        "id": "QldmHeooJtqo"
      },
      "outputs": [],
      "source": [
        "#Downloading java / spark library / extract the file / instaling the spark framework\n",
        "!apt-get install openjdk-8-jdk-headless -qq > /dev/null\n",
        "!wget https://dlcdn.apache.org/spark/spark-3.2.1/spark-3.2.1-bin-hadoop3.2.tgz\n",
        "!tar -xvzf spark-3.2.1-bin-hadoop3.2.tgz\n",
        "!ls /content/spark-3.2.1-bin-hadoop3.2\n",
        "!pip install findspark"
      ]
    },
    {
      "cell_type": "code",
      "source": [
        "#creating variables Java Home / Spark Home\n",
        "import os\n",
        "os.environ[\"JAVA_HOME\"] = \"/usr/lib/jvm/java-8-openjdk-amd64\"\n",
        "os.environ[\"SPARK_HOME\"] = \"/content/spark-3.2.1-bin-hadoop3.2\""
      ],
      "metadata": {
        "id": "A_3Jb5jlKwXp"
      },
      "execution_count": 2,
      "outputs": []
    },
    {
      "cell_type": "code",
      "source": [
        "#Turning Spark importable\n",
        "import findspark\n",
        "findspark.init(\"spark-3.2.1-bin-hadoop3.2\")"
      ],
      "metadata": {
        "id": "UOuIJ_LFK18a"
      },
      "execution_count": 3,
      "outputs": []
    },
    {
      "cell_type": "code",
      "source": [
        "#Inititalize SPARK enviroment.\n",
        "from pyspark.sql import SparkSession\n",
        "spark = SparkSession.builder\\\n",
        "        .master(\"local\")\\\n",
        "        .appName(\"Colab\")\\\n",
        "        .config(\"spark.ui.port\", \"4050\")\\\n",
        "        .getOrCreate()"
      ],
      "metadata": {
        "id": "QQqqwrPXK91a"
      },
      "execution_count": 4,
      "outputs": []
    },
    {
      "cell_type": "code",
      "source": [
        "#connecting with google docs to get csv files.\n",
        "from google.colab import drive\n",
        "drive.mount(\"/content/drive\")"
      ],
      "metadata": {
        "id": "mw0oPpn6LEln"
      },
      "execution_count": null,
      "outputs": []
    },
    {
      "cell_type": "code",
      "source": [
        "#Using recursiveFileLookup to read csv files in nested folders.\n",
        "df = spark.read.format(\"csv\")\\\n",
        "                .option(\"recursiveFileLookup\",\"true\")\\\n",
        "                .option(\"header\", \"true\")\\\n",
        "                .load(\"/content/drive/MyDrive/Colab Notebooks/csv/nested\")"
      ],
      "metadata": {
        "id": "41R-HUyOsfUU"
      },
      "execution_count": 20,
      "outputs": []
    },
    {
      "cell_type": "code",
      "source": [
        "from pyspark.sql.functions import input_file_name\n",
        "df = df.withColumn(\"filename\",input_file_name())\n",
        "df.show()"
      ],
      "metadata": {
        "colab": {
          "base_uri": "https://localhost:8080/"
        },
        "id": "ydiDmMZdtJU7",
        "outputId": "a9db4d40-6aaf-4c23-9f34-2a6c74e18641"
      },
      "execution_count": 27,
      "outputs": [
        {
          "output_type": "stream",
          "name": "stdout",
          "text": [
            "+---+--------------+-------------+----------+--------------------+\n",
            "| id|          name|          loc|date_event|            filename|\n",
            "+---+--------------+-------------+----------+--------------------+\n",
            "|  1|Fernando Souza|       Recife|12-01-2020|file:///content/d...|\n",
            "|  2|         Lucas|       Olinda|27-03-2019|file:///content/d...|\n",
            "|  3|         Paulo|Foz do Iguaçu|21-02-2017|file:///content/d...|\n",
            "|  4|       Leandro|    São Paulo|15-07-2018|file:///content/d...|\n",
            "|  5|          Luis|       Maceió|30-03-2019|file:///content/d...|\n",
            "|  1|Fernando Souza|       Recife|12-01-2020|file:///content/d...|\n",
            "|  2|         Lucas|       Olinda|27-03-2019|file:///content/d...|\n",
            "|  3|         Paulo|Foz do Iguaçu|21-02-2017|file:///content/d...|\n",
            "|  4|       Leandro|    São Paulo|15-07-2018|file:///content/d...|\n",
            "|  5|          Luis|       Maceió|30-03-2019|file:///content/d...|\n",
            "|  1|Fernando Souza|       Recife|12-01-2020|file:///content/d...|\n",
            "|  2|         Lucas|       Olinda|27-03-2019|file:///content/d...|\n",
            "|  3|         Paulo|Foz do Iguaçu|21-02-2017|file:///content/d...|\n",
            "|  4|       Leandro|    São Paulo|15-07-2018|file:///content/d...|\n",
            "|  5|          Luis|       Maceió|30-03-2019|file:///content/d...|\n",
            "+---+--------------+-------------+----------+--------------------+\n",
            "\n"
          ]
        }
      ]
    }
  ]
}